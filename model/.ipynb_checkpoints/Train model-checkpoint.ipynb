{
 "cells": [
  {
   "cell_type": "markdown",
   "metadata": {},
   "source": [
    "# Creating the model\n",
    "\n",
    "This notebook contains code to create the model used for the API."
   ]
  },
  {
   "cell_type": "markdown",
   "metadata": {},
   "source": [
    "## Data preparation"
   ]
  },
  {
   "cell_type": "code",
   "execution_count": 6,
   "metadata": {
    "collapsed": false
   },
   "outputs": [
    {
     "data": {
      "text/html": [
       "<div>\n",
       "<table border=\"1\" class=\"dataframe\">\n",
       "  <thead>\n",
       "    <tr style=\"text-align: right;\">\n",
       "      <th></th>\n",
       "      <th>text</th>\n",
       "      <th>label</th>\n",
       "    </tr>\n",
       "  </thead>\n",
       "  <tbody>\n",
       "    <tr>\n",
       "      <th>0</th>\n",
       "      <td>My $200 Gucci sunglasses were stolen out of my...</td>\n",
       "      <td>True</td>\n",
       "    </tr>\n",
       "    <tr>\n",
       "      <th>1</th>\n",
       "      <td>This was a gorgeous hotel from the outside and...</td>\n",
       "      <td>True</td>\n",
       "    </tr>\n",
       "    <tr>\n",
       "      <th>2</th>\n",
       "      <td>The hotel is very impressive upon entering and...</td>\n",
       "      <td>True</td>\n",
       "    </tr>\n",
       "    <tr>\n",
       "      <th>3</th>\n",
       "      <td>Going to the Internet Retailer 2010 at the las...</td>\n",
       "      <td>True</td>\n",
       "    </tr>\n",
       "    <tr>\n",
       "      <th>4</th>\n",
       "      <td>I checked into this hotel, Rm 1760 on 11/13/20...</td>\n",
       "      <td>True</td>\n",
       "    </tr>\n",
       "  </tbody>\n",
       "</table>\n",
       "</div>"
      ],
      "text/plain": [
       "                                                text label\n",
       "0  My $200 Gucci sunglasses were stolen out of my...  True\n",
       "1  This was a gorgeous hotel from the outside and...  True\n",
       "2  The hotel is very impressive upon entering and...  True\n",
       "3  Going to the Internet Retailer 2010 at the las...  True\n",
       "4  I checked into this hotel, Rm 1760 on 11/13/20...  True"
      ]
     },
     "execution_count": 6,
     "metadata": {},
     "output_type": "execute_result"
    }
   ],
   "source": [
    "import glob\n",
    "import pandas as pd\n",
    "\n",
    "truthful_files = glob.glob('/Users/jediv/repos/papis-deploy-python-model-apis/model/op_spam/*/truthful*/*/*txt')\n",
    "deceptive_files = glob.glob('/Users/jediv/repos/papis-deploy-python-model-apis/model/op_spam/*/deceptive*/*/*txt')\n",
    "\n",
    "def read_file(path):\n",
    "    with open(path) as f:\n",
    "        return f.read()\n",
    "text = map(read_file, truthful_files + deceptive_files)\n",
    "\n",
    "labels = [True] * len(truthful_files) + [False] * len(deceptive_files)\n",
    "\n",
    "data = pd.DataFrame(data= list(zip(text, labels)), columns=['text','label'])\n",
    "data.head()"
   ]
  },
  {
   "cell_type": "code",
   "execution_count": 30,
   "metadata": {
    "collapsed": false
   },
   "outputs": [
    {
     "name": "stdout",
     "output_type": "stream",
     "text": [
      "The service was reasonably well...they seemed to have my reservation and checked me in fairly easily. The location was fine being that it was central to the city but I found out that it was also a tremendous drawback. It was interesting that the survey I took at the hotel in order to obtain internet access at the hotel asked what my most important quality was in a hotel visit and my response \"Quiet\". My visit was anything but, mainly attributed to the fact that they put me on the second floor, facing the street. I awoke at 4 a.m. and never did return to sleep because of the constant street noise and screeching of the L train that sounded as though it was just outside my window. Not the most conducive for a restful sleep prior to an important meeting. At check-out when I informed the hotel clerk of my dissatisfation he chuckled and said, \" Ah, city noise.\"\n",
      "\n",
      "While visiting the Chicago area, we chose the Hotel Monaco Chicago for our stay. As one of the premier luxury hotels in Chicago, we held high expectations but were quickly disappointed in what we recieved. The problems began as soon as we arrived. The attendant was not friendly nor did she have the smile that is suppose to be the symbol of Kimpton. And, when we went to our room only to discover that we had not been given what we had paid for, the situation only got worse. Rather than apologize for the error (my credit card receipt was on hand) we were blamed for the indescrpencies in rooms and told that not only was the room we had reserved and paid for more than two months unavailable, we would not recieve a refund of the price difference of the two rooms. I could not believe that a top 40 U.S. hotel that is suppose to be committed to excellence could make such a blunder! With no choice but to retreat back to our room, we were pleasantly pleased with all of the amenities that we did recieve during our stay. A beautiful hotel in the Chicago Loop, but don't go expecting to be treated with respect or professionalism.\n",
      "\n"
     ]
    }
   ],
   "source": [
    "real = data[data['label'] == True].iloc[50]\n",
    "fake = data[data['label'] == False].iloc[50]\n",
    "print real.text\n",
    "print fake.text"
   ]
  },
  {
   "cell_type": "markdown",
   "metadata": {},
   "source": [
    "## Training the model"
   ]
  },
  {
   "cell_type": "code",
   "execution_count": 2,
   "metadata": {
    "collapsed": false
   },
   "outputs": [
    {
     "name": "stdout",
     "output_type": "stream",
     "text": [
      "{'tfidf__stop_words': None, 'clf__max_depth': None, 'clf__n_estimators': 1000}\n",
      "0.845625\n"
     ]
    }
   ],
   "source": [
    "from sklearn.feature_extraction.text import TfidfVectorizer\n",
    "from sklearn.ensemble import RandomForestClassifier\n",
    "from sklearn.pipeline import Pipeline\n",
    "\n",
    "text_clf = Pipeline([('tfidf', TfidfVectorizer()),\n",
    "                     ('clf', RandomForestClassifier(n_estimators=1000))\n",
    "                     ])\n",
    "\n",
    "from sklearn.model_selection import GridSearchCV\n",
    "parameters = {\"clf__n_estimators\": [1000],\n",
    "              \"clf__max_depth\": [2, 4, 10, None],\n",
    "              \"tfidf__stop_words\": [None, 'english']}\n",
    "model = GridSearchCV(text_clf, parameters, n_jobs=-1, scoring='accuracy')\n",
    "\n",
    "model.fit(data.text.values, data.label.values)\n",
    "\n",
    "print(model.best_params_)\n",
    "print(model.best_score_)"
   ]
  },
  {
   "cell_type": "code",
   "execution_count": 3,
   "metadata": {
    "collapsed": false
   },
   "outputs": [
    {
     "data": {
      "text/plain": [
       "Pipeline(steps=[('tfidf', TfidfVectorizer(analyzer=u'word', binary=False, decode_error=u'strict',\n",
       "        dtype=<type 'numpy.int64'>, encoding=u'utf-8', input=u'content',\n",
       "        lowercase=True, max_df=1.0, max_features=None, min_df=1,\n",
       "        ngram_range=(1, 1), norm=u'l2', preprocessor=None, smooth_idf=Tru...ators=1000, n_jobs=1, oob_score=False,\n",
       "            random_state=None, verbose=0, warm_start=False))])"
      ]
     },
     "execution_count": 3,
     "metadata": {},
     "output_type": "execute_result"
    }
   ],
   "source": [
    "text_clf.set_params(**model.best_params_)\n",
    "text_clf.fit(data.text.values, data.label.values)"
   ]
  },
  {
   "cell_type": "markdown",
   "metadata": {},
   "source": [
    "## Storing the model"
   ]
  },
  {
   "cell_type": "code",
   "execution_count": 4,
   "metadata": {
    "collapsed": false
   },
   "outputs": [
    {
     "data": {
      "text/plain": [
       "['model.pkl']"
      ]
     },
     "execution_count": 4,
     "metadata": {},
     "output_type": "execute_result"
    }
   ],
   "source": [
    "import joblib\n",
    "joblib.dump(text_clf, 'model.pkl', compress=5)"
   ]
  },
  {
   "cell_type": "code",
   "execution_count": 15,
   "metadata": {
    "collapsed": false
   },
   "outputs": [
    {
     "name": "stdout",
     "output_type": "stream",
     "text": [
      "[False]\n",
      "[False]\n",
      "[False]\n",
      "[False]\n",
      "[False]\n",
      "[False]\n",
      "[False]\n",
      "[False]\n",
      "[False]\n",
      "[False]\n",
      "6.02303814888\n"
     ]
    }
   ],
   "source": [
    "import joblib\n",
    "model = joblib.load('model.pkl')\n",
    "import time\n",
    "start = time.time()\n",
    "for _ in range(10):\n",
    "    print model.predict([\"I will NEVER stay in this hotel again!\"])\n",
    "end = time.time()\n",
    "print(end - start)"
   ]
  },
  {
   "cell_type": "code",
   "execution_count": 14,
   "metadata": {
    "collapsed": false
   },
   "outputs": [
    {
     "name": "stdout",
     "output_type": "stream",
     "text": [
      "[False]\n",
      "James Chicago; the luxurious nice hotel as it was advertised. I didn't want stay in this hotel, but my wife insisted. Ok, so when I booked the ticket, it cost me $299 for one room. $299! I could get a new honeycomb android tablet with dual core processor at that price point! The room was stylish though, it looked nice. There was a TV, and the beds were fine. Although I couldn't quite understand why they had Wifi and no computer. Why would I even need wifi if there is no computer? What were they thinking!? The experience I had with James Chicago was a bit below of what I had expected. I mean the food available there wasn't very tasty at all. I had to wait in a long line to get the ticket and I was also hoping to browse the internet, but they had no computer, only wifi. That's like only having bread, without any fillings to make it into a sandwich!\n",
      "\n"
     ]
    }
   ],
   "source": [
    "print model.predict([data[data['label'] == False].iloc[25].text])\n",
    "print data[data['label'] == False].iloc[25].text"
   ]
  }
 ],
 "metadata": {
  "kernelspec": {
   "display_name": "api_env",
   "language": "python",
   "name": "api_env"
  },
  "language_info": {
   "codemirror_mode": {
    "name": "ipython",
    "version": 2
   },
   "file_extension": ".py",
   "mimetype": "text/x-python",
   "name": "python",
   "nbconvert_exporter": "python",
   "pygments_lexer": "ipython2",
   "version": "2.7.13"
  }
 },
 "nbformat": 4,
 "nbformat_minor": 0
}
